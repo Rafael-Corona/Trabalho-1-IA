{
 "cells": [
  {
   "cell_type": "markdown",
   "metadata": {},
   "source": [
    "# SCC0230 - Inteligência Artificial (2030)\n",
    "#### Docente: Solange Oliveira Rezende\n",
    "#### PAE - Germano Antonio Zani Jorge\n",
    "#### PAE - Rene Vieira Santin\n",
    "### **Trabalho 1**\n",
    "#### Integrantes:\n",
    "*  Rafael Corona - 4769989\n",
    "*  Rafael Corona - 4769989\n",
    "*  Rafael Corona - 4769989\n",
    "*  Rafael Corona - 4769989\n",
    "*  Rafael Corona - 4769989"
   ]
  },
  {
   "cell_type": "markdown",
   "metadata": {},
   "source": [
    "### **PARTE 1**\n",
    "\n",
    "Colocar aqui:\n",
    "*  Qual a motivação por traz desse trabalho\n",
    "*  Qual o problema\n",
    "*  Por que escolhemos esse problema\n",
    "*  Quais são as variaveis\n",
    "*  Quais são os parâmetros\n",
    "*  Qual o Nó inicial (Podemos escolher qualquer um)\n",
    "*  Explicar como modelamos o problema (falar um pouquinho da classe que utilizamos para implementar a parada\n",
    ")"
   ]
  },
  {
   "cell_type": "markdown",
   "metadata": {},
   "source": [
    "### Imports"
   ]
  },
  {
   "cell_type": "code",
   "execution_count": 22,
   "metadata": {},
   "outputs": [],
   "source": [
    "import itertools\n",
    "import time"
   ]
  },
  {
   "cell_type": "code",
   "execution_count": 23,
   "metadata": {},
   "outputs": [],
   "source": [
    "\n",
    "\n",
    "#classe que representa um grafo valorado não orientado\n",
    "class WeightedGraph:\n",
    "    def __init__(self):\n",
    "        self.graph = {} #listas de adjacencia\n",
    "        self.N_vertices = 0\n",
    "        self.N_edges = 0\n",
    "\n",
    "    #adiciona um vértice ao grafo, caso ele ainda não tenha sido adicionado\n",
    "    def add_vertex(self, vertex):\n",
    "        if (vertex not in self.graph):\n",
    "            self.graph[vertex] = {} #lista de adjacencia do vétice\n",
    "            self.N_vertices = self.N_vertices+1\n",
    "\n",
    "    #adiciona uma aresta entre dois vértices do grafo\n",
    "    def add_edge(self, vertex1, vertex2, weight):\n",
    "        if (vertex1 in self.graph and vertex2 in self.graph):\n",
    "            if(weight >= 0):\n",
    "                self.graph[vertex1][vertex2] = weight\n",
    "                self.graph[vertex2][vertex1] = weight  # para um grafo não direcionado\n",
    "            \n",
    "            #distâncias negativas significam que não há caminho\n",
    "            else:\n",
    "                self.graph[vertex1][vertex2] = float('inf')\n",
    "                self.graph[vertex2][vertex1] = float('inf')\n",
    "            self.N_edges = self.N_edges+1\n",
    "    \n",
    "    #remove uma aresta entre dois vértices do grafo\n",
    "    def remove_edge(self, vertex1, vertex2):\n",
    "        if (vertex1 in self.graph and vertex2 in self.graph):\n",
    "            del self.graph[vertex1][vertex2]\n",
    "            del self.graph[vertex2][vertex1]# para um grafo não direcionado\n",
    "            self.N_edges = self.N_edges-1 \n",
    "\n",
    "    #printa o grafo como uma lista de adjacencias\n",
    "    def print(self):\n",
    "        for vertex, neighbors in self.graph.items():\n",
    "            neighbor_str = \", \".join([f\"{neighbor} ({weight})\" for neighbor, weight in neighbors.items()])\n",
    "            print(f\"{vertex}: {neighbor_str}\")\n",
    "\n",
    "    #lê um grafo a partir de um arquivo\n",
    "    def read_from_file(self, file_path):\n",
    "            with open(file_path, 'r') as file:\n",
    "                num_vertices = int(file.readline().strip())\n",
    "                num_edges = int(file.readline().strip())\n",
    "\n",
    "                for _ in range(num_vertices):\n",
    "                    vertex = file.readline().strip()\n",
    "                    graph.add_vertex(vertex)\n",
    "\n",
    "                for _ in range(num_edges):\n",
    "                    line = file.readline().strip()\n",
    "                    vertex1, vertex2, weight = line.split()\n",
    "                    vertex1 = str(vertex1)\n",
    "                    vertex2 = str(vertex2)\n",
    "                    weight = float(weight)\n",
    "                    graph.add_edge(vertex1, vertex2, weight)\n",
    "                #linhas após o termino das arestas são ignoradas\n",
    "\n",
    "    #resolve o problema do caixeiro viajante por força bruta\n",
    "    #retorna o menor caminho e o comprimento desse caminho\n",
    "    def tsp_bruteforce(self):\n",
    "        vertices = list(self.graph.keys())\n",
    "\n",
    "        shortest_path = []\n",
    "        shortest_distance = float('inf')\n",
    "\n",
    "        if self.N_vertices < 2:\n",
    "            return shortest_path, 0  #um único vértice não configura caminho \n",
    "\n",
    "        #lista cada permutação possível dos vértices\n",
    "        for permuted_vertices in itertools.permutations(vertices):\n",
    "            total_distance = 0\n",
    "            for i in range(self.N_vertices - 1):\n",
    "                vertex1 = permuted_vertices[i]\n",
    "                vertex2 = permuted_vertices[i + 1]\n",
    "                total_distance += self.graph[vertex1][vertex2]\n",
    "\n",
    "            # soma as distancias do primeiro ao ultimo vertice\n",
    "            total_distance += self.graph[permuted_vertices[-1]][permuted_vertices[0]]\n",
    "\n",
    "            if total_distance < shortest_distance:#escolhe a menor\n",
    "                shortest_distance = total_distance\n",
    "                shortest_path = list(permuted_vertices)\n",
    "\n",
    "        return shortest_path, shortest_distance\n",
    "    \n",
    "\n",
    "    def tsp_best_first(self, start_vertex=None):\n",
    "        if not start_vertex:\n",
    "            start_vertex = next(iter(self.graph))  # Comecamos do primeiro vertice\n",
    "\n",
    "        unvisited = set(self.graph.keys()) \n",
    "        unvisited.discard(start_vertex) #visitamos o primeiro vertice\n",
    "        tour = [start_vertex]\n",
    "        current_vertex = start_vertex\n",
    "\n",
    "        while unvisited:\n",
    "            closest_neighbor = None\n",
    "            min_distance = float('inf')\n",
    "\n",
    "            for neighbor, weight in self.graph[current_vertex].items():\n",
    "                if neighbor in unvisited and weight < min_distance:\n",
    "                    min_distance = weight\n",
    "                    closest_neighbor = neighbor\n",
    "\n",
    "            if closest_neighbor is not None:\n",
    "                tour.append(closest_neighbor)\n",
    "                unvisited.remove(closest_neighbor)\n",
    "                current_vertex = closest_neighbor\n",
    "            else:\n",
    "                # Caso todos os visinhos ja foram visitados\n",
    "                # Não ocorre no nosso problema\n",
    "                current_vertex = tour[0]\n",
    "\n",
    "        # Soma as distancias\n",
    "        tour_distance = sum(self.graph[tour[i]][tour[i + 1]] for i in range(len(tour) - 1))\n",
    "        tour_distance += self.graph[tour[-1]][tour[0]]\n",
    "\n",
    "        return tour, tour_distance\n"
   ]
  },
  {
   "cell_type": "code",
   "execution_count": 24,
   "metadata": {},
   "outputs": [
    {
     "ename": "ValueError",
     "evalue": "not enough values to unpack (expected 3, got 2)",
     "output_type": "error",
     "traceback": [
      "\u001b[0;31m---------------------------------------------------------------------------\u001b[0m",
      "\u001b[0;31mValueError\u001b[0m                                Traceback (most recent call last)",
      "\u001b[1;32m/home/rafael/Área de trabalho/IA/Trabalho-1-IA/grafos.ipynb Célula 6\u001b[0m line \u001b[0;36m5\n\u001b[1;32m      <a href='vscode-notebook-cell:/home/rafael/%C3%81rea%20de%20trabalho/IA/Trabalho-1-IA/grafos.ipynb#X24sZmlsZQ%3D%3D?line=0'>1</a>\u001b[0m graph \u001b[39m=\u001b[39m WeightedGraph()\n\u001b[1;32m      <a href='vscode-notebook-cell:/home/rafael/%C3%81rea%20de%20trabalho/IA/Trabalho-1-IA/grafos.ipynb#X24sZmlsZQ%3D%3D?line=2'>3</a>\u001b[0m PATH \u001b[39m=\u001b[39m \u001b[39m\"\u001b[39m\u001b[39mdata/euclidian.txt\u001b[39m\u001b[39m\"\u001b[39m\n\u001b[0;32m----> <a href='vscode-notebook-cell:/home/rafael/%C3%81rea%20de%20trabalho/IA/Trabalho-1-IA/grafos.ipynb#X24sZmlsZQ%3D%3D?line=4'>5</a>\u001b[0m graph\u001b[39m.\u001b[39;49mread_from_file(PATH)\n\u001b[1;32m      <a href='vscode-notebook-cell:/home/rafael/%C3%81rea%20de%20trabalho/IA/Trabalho-1-IA/grafos.ipynb#X24sZmlsZQ%3D%3D?line=6'>7</a>\u001b[0m graph\u001b[39m.\u001b[39mprint()\n",
      "\u001b[1;32m/home/rafael/Área de trabalho/IA/Trabalho-1-IA/grafos.ipynb Célula 6\u001b[0m line \u001b[0;36m5\n\u001b[1;32m     <a href='vscode-notebook-cell:/home/rafael/%C3%81rea%20de%20trabalho/IA/Trabalho-1-IA/grafos.ipynb#X24sZmlsZQ%3D%3D?line=49'>50</a>\u001b[0m \u001b[39mfor\u001b[39;00m _ \u001b[39min\u001b[39;00m \u001b[39mrange\u001b[39m(num_edges):\n\u001b[1;32m     <a href='vscode-notebook-cell:/home/rafael/%C3%81rea%20de%20trabalho/IA/Trabalho-1-IA/grafos.ipynb#X24sZmlsZQ%3D%3D?line=50'>51</a>\u001b[0m     line \u001b[39m=\u001b[39m file\u001b[39m.\u001b[39mreadline()\u001b[39m.\u001b[39mstrip()\n\u001b[0;32m---> <a href='vscode-notebook-cell:/home/rafael/%C3%81rea%20de%20trabalho/IA/Trabalho-1-IA/grafos.ipynb#X24sZmlsZQ%3D%3D?line=51'>52</a>\u001b[0m     vertex1, vertex2, weight \u001b[39m=\u001b[39m line\u001b[39m.\u001b[39msplit()\n\u001b[1;32m     <a href='vscode-notebook-cell:/home/rafael/%C3%81rea%20de%20trabalho/IA/Trabalho-1-IA/grafos.ipynb#X24sZmlsZQ%3D%3D?line=52'>53</a>\u001b[0m     vertex1 \u001b[39m=\u001b[39m \u001b[39mstr\u001b[39m(vertex1)\n\u001b[1;32m     <a href='vscode-notebook-cell:/home/rafael/%C3%81rea%20de%20trabalho/IA/Trabalho-1-IA/grafos.ipynb#X24sZmlsZQ%3D%3D?line=53'>54</a>\u001b[0m     vertex2 \u001b[39m=\u001b[39m \u001b[39mstr\u001b[39m(vertex2)\n",
      "\u001b[0;31mValueError\u001b[0m: not enough values to unpack (expected 3, got 2)"
     ]
    }
   ],
   "source": [
    "graph = WeightedGraph()\n",
    "\n",
    "PATH = \"data/euclidian.txt\"\n",
    "\n",
    "graph.read_from_file(PATH)\n",
    "\n",
    "graph.print()"
   ]
  },
  {
   "cell_type": "markdown",
   "metadata": {},
   "source": [
    "### **PARTE 2**"
   ]
  },
  {
   "cell_type": "markdown",
   "metadata": {},
   "source": [
    "Primeiramente, vamos executar a solução força bruta para obtermos alguns parâmetros iniciais, como a solução ótima e o pior tempo de execução possível "
   ]
  },
  {
   "cell_type": "code",
   "execution_count": null,
   "metadata": {},
   "outputs": [
    {
     "name": "stdout",
     "output_type": "stream",
     "text": [
      "Caminho mais curto: ['ME', 'VE', 'TE', 'MA', 'JU', 'SA', 'UR', 'NE', 'PL', 'SO']\n",
      "Comprimento total: 100.0 metros\n",
      "Tempo Médio de execução: 4.386874842643738 s\n"
     ]
    }
   ],
   "source": [
    "N_EXECUCOES = 2\n",
    "\n",
    "start = time.time()\n",
    "for i in range(N_EXECUCOES):\n",
    "    shortest_path_bruteforce, shortest_distance_bruteforce = graph.tsp_bruteforce()\n",
    "end = time.time()\n",
    "\n",
    "print(\"Caminho mais curto:\", shortest_path_bruteforce)\n",
    "print(\"Comprimento total:\", shortest_distance_bruteforce, \"metros\")\n",
    "print(\"Tempo Médio de execução:\", (end-start)/N_EXECUCOES,\"s\")"
   ]
  },
  {
   "cell_type": "markdown",
   "metadata": {},
   "source": [
    "## **Parte 3**"
   ]
  },
  {
   "cell_type": "markdown",
   "metadata": {},
   "source": [
    "Agora vamos executar os demais algoritmos e aferir suas estatísticas em relação a implementação força bruta"
   ]
  },
  {
   "cell_type": "code",
   "execution_count": null,
   "metadata": {},
   "outputs": [
    {
     "name": "stdout",
     "output_type": "stream",
     "text": [
      "Caminho mais curto: ['ME', 'VE', 'TE', 'MA', 'JU', 'SA', 'UR', 'NE', 'PL', 'SO']\n",
      "Comprimento total: 100.0 metros\n",
      "Tempo Médio de execução: 1.1849403381347657e-05\n",
      "Erro relativo da solução: 0.0\n"
     ]
    }
   ],
   "source": [
    "start = time.time()\n",
    "for i in range(N_EXECUCOES):\n",
    "    shortest_path_bestfirst, shortest_distance_best_first = graph.tsp_best_first()\n",
    "end = time.time()\n",
    "\n",
    "print(\"Caminho mais curto:\", shortest_path_bestfirst)\n",
    "print(\"Comprimento total:\", shortest_distance_best_first, \"metros\")\n",
    "print(\"Tempo Médio de execução:\", (end-start)/N_EXECUCOES)\n",
    "print(\"Erro relativo da solução:\", shortest_distance_bruteforce-shortest_distance_best_first/shortest_distance_bruteforce*100)"
   ]
  }
 ],
 "metadata": {
  "kernelspec": {
   "display_name": "Python 3 (ipykernel)",
   "language": "python",
   "name": "python3"
  },
  "language_info": {
   "codemirror_mode": {
    "name": "ipython",
    "version": 3
   },
   "file_extension": ".py",
   "mimetype": "text/x-python",
   "name": "python",
   "nbconvert_exporter": "python",
   "pygments_lexer": "ipython3",
   "version": "3.11.2"
  }
 },
 "nbformat": 4,
 "nbformat_minor": 2
}
