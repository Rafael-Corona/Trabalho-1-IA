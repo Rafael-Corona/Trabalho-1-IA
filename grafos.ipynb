{
 "cells": [
  {
   "cell_type": "code",
   "execution_count": null,
   "metadata": {},
   "outputs": [],
   "source": [
    "class WeightedGraph:\n",
    "    def __init__(self):\n",
    "        self.graph = {}\n",
    "        self.N_vertices = 0\n",
    "        self.N_edges = 0\n",
    "\n",
    "    def add_vertex(self, vertex):\n",
    "        if vertex not in self.graph:\n",
    "            self.graph[vertex] = {}\n",
    "            self.N_vertices = self.N_vertices+1\n",
    "\n",
    "    def add_edge(self, vertex1, vertex2, weight):\n",
    "        if vertex1 in self.graph and vertex2 in self.graph:\n",
    "            self.graph[vertex1][vertex2] = weight\n",
    "            self.graph[vertex2][vertex1] = weight  # para um grafo não direcionado\n",
    "            self.N_edges = self.N_edges+1\n",
    "\n",
    "    def remove_edge(self, vertex1, vertex2):\n",
    "        if vertex1 in self.graph and vertex2 in self.graph:\n",
    "            del self.graph[vertex1][vertex2]\n",
    "            del self.graph[vertex2][vertex1]# para um grafo não direcionado\n",
    "            self.N_edges = self.N_edges-1 \n",
    "\n",
    "    def print(self):\n",
    "        for vertex, neighbors in self.graph.items():\n",
    "            neighbor_str = \", \".join([f\"{neighbor} ({weight})\" for neighbor, weight in neighbors.items()])\n",
    "            print(f\"{vertex}: {neighbor_str}\")\n",
    "\n",
    "    def read_from_file(self, file_path):\n",
    "            with open(file_path, 'r') as file:\n",
    "                num_vertices = int(file.readline().strip())\n",
    "                num_edges = int(file.readline().strip())\n",
    "\n",
    "                for _ in range(num_vertices):\n",
    "                    vertex = file.readline().strip()\n",
    "                    graph.add_vertex(vertex)\n",
    "\n",
    "                for _ in range(num_edges):\n",
    "                    line = file.readline().strip()\n",
    "                    vertex1, vertex2, weight = line.split()\n",
    "                    vertex1 = str(vertex1)\n",
    "                    vertex2 = str(vertex2)\n",
    "                    weight = float(weight)\n",
    "                    graph.add_edge(vertex1, vertex2, weight)\n",
    "                #linhas após o termino das arestas são ignoradas\n",
    "\n",
    "\n",
    "if __name__ == \"__main__\":\n",
    "    graph = WeightedGraph()\n",
    "\n",
    "    graph.read_from_file(\"data/euclidian.txt\")\n",
    "\n",
    "    graph.print()\n"
   ]
  }
 ],
 "metadata": {
  "kernelspec": {
   "display_name": "Python 3",
   "language": "python",
   "name": "python3"
  },
  "language_info": {
   "codemirror_mode": {
    "name": "ipython",
    "version": 3
   },
   "file_extension": ".py",
   "mimetype": "text/x-python",
   "name": "python",
   "nbconvert_exporter": "python",
   "pygments_lexer": "ipython3",
   "version": "3.11.2"
  }
 },
 "nbformat": 4,
 "nbformat_minor": 2
}
