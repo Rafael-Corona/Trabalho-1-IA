{
 "cells": [
  {
   "cell_type": "markdown",
   "metadata": {},
   "source": [
    "# SCC0230 - Inteligência Artificial (2030)\n",
    "#### Docente: Solange Oliveira Rezende\n",
    "#### PAE - Germano Antonio Zani Jorge\n",
    "#### PAE - Rene Vieira Santin\n",
    "### **Trabalho 1**\n",
    "#### Integrantes:\n",
    "*  Rafael Corona - 4769989\n",
    "*  Vitor Caetano Brustolin - 11795589\n",
    "*  Rafael Corona - 4769989\n",
    "*  Rafael Corona - 4769989\n",
    "*  Rafael Corona - 4769989"
   ]
  },
  {
   "cell_type": "markdown",
   "metadata": {},
   "source": [
    "### **PARTE 1**\n",
    "\n",
    "Colocar aqui:\n",
    "*  Qual a motivação por traz desse trabalho\n",
    "*  Qual o problema\n",
    "*  Por que escolhemos esse problema\n",
    "*  Quais são as variaveis\n",
    "*  Quais são os parâmetros\n",
    "*  Qual o Nó inicial (Podemos escolher qualquer um)\n",
    "*  Explicar como modelamos o problema (falar um pouquinho da classe que utilizamos para implementar a parada\n",
    ")"
   ]
  },
  {
   "cell_type": "markdown",
   "metadata": {},
   "source": [
    "### Imports"
   ]
  },
  {
   "cell_type": "code",
   "execution_count": 37,
   "metadata": {},
   "outputs": [],
   "source": [
    "import itertools\n",
    "import time\n",
    "import numpy as np"
   ]
  },
  {
   "cell_type": "code",
   "execution_count": 43,
   "metadata": {},
   "outputs": [],
   "source": [
    "#classe que representa um grafo valorado não orientado\n",
    "class WeightedGraph:\n",
    "    def __init__(self):\n",
    "        self.graph = {} #listas de adjacencia\n",
    "        self.N_vertices = 0\n",
    "        self.N_edges = 0\n",
    "\n",
    "    #adiciona um vértice ao grafo, caso ele ainda não tenha sido adicionado\n",
    "    def add_vertex(self, vertex):\n",
    "        if (vertex not in self.graph):\n",
    "            self.graph[vertex] = {} #lista de adjacencia do vétice\n",
    "            self.N_vertices = self.N_vertices+1\n",
    "\n",
    "    #adiciona uma aresta entre dois vértices do grafo\n",
    "    def add_edge(self, vertex1, vertex2, weight):\n",
    "        if (vertex1 in self.graph and vertex2 in self.graph):\n",
    "            if(weight >= 0):\n",
    "                self.graph[vertex1][vertex2] = weight\n",
    "                self.graph[vertex2][vertex1] = weight  # para um grafo não direcionado\n",
    "            \n",
    "            #distâncias negativas significam que não há caminho\n",
    "            else:\n",
    "                self.graph[vertex1][vertex2] = float('inf')\n",
    "                self.graph[vertex2][vertex1] = float('inf')\n",
    "            self.N_edges = self.N_edges+1\n",
    "    \n",
    "    #remove uma aresta entre dois vértices do grafo\n",
    "    def remove_edge(self, vertex1, vertex2):\n",
    "        if (vertex1 in self.graph and vertex2 in self.graph):\n",
    "            del self.graph[vertex1][vertex2]\n",
    "            del self.graph[vertex2][vertex1]# para um grafo não direcionado\n",
    "            self.N_edges = self.N_edges-1 \n",
    "\n",
    "    #printa o grafo como uma lista de adjacencias\n",
    "    def print(self):\n",
    "        for vertex, neighbors in self.graph.items():\n",
    "            neighbor_str = \", \".join([f\"{neighbor} ({weight})\" for neighbor, weight in neighbors.items()])\n",
    "            print(f\"{vertex}: {neighbor_str}\")\n",
    "\n",
    "    #lê um grafo a partir de um arquivo\n",
    "    def read_from_file(self, file_path):\n",
    "            graph = self()\n",
    "            with open(file_path, 'r') as file:\n",
    "                num_vertices = int(file.readline().strip())\n",
    "                num_edges = int(file.readline().strip())\n",
    "\n",
    "                for _ in range(num_vertices):\n",
    "                    vertex = file.readline().strip()\n",
    "                    graph.add_vertex(vertex)\n",
    "\n",
    "                for _ in range(num_edges):\n",
    "                    line = file.readline().strip()\n",
    "                    vertex1, vertex2, weight = line.split()\n",
    "                    vertex1 = str(vertex1)\n",
    "                    vertex2 = str(vertex2)\n",
    "                    weight = float(weight)\n",
    "                    graph.add_edge(vertex1, vertex2, weight)\n",
    "                #linhas após o termino das arestas são ignoradas\n",
    "\n",
    "    def convert_to_matrix(self):\n",
    "        vertices = list(self.graph.keys())\n",
    "        matrix = []\n",
    "        for v in vertices:\n",
    "            matrix.append([])\n",
    "            for w in range(self.N_vertices):\n",
    "                matrix[v][w] = self.graph[v][w]\n",
    "                \n",
    "    \n",
    "\n",
    "    #resolve o problema do caixeiro viajante por força bruta\n",
    "    #retorna o menor caminho e o comprimento desse caminho\n",
    "    def tsp_bruteforce(self):\n",
    "        vertices = list(self.graph.keys())\n",
    "\n",
    "        shortest_path = []\n",
    "        shortest_distance = float('inf')\n",
    "\n",
    "        if self.N_vertices < 2:\n",
    "            return shortest_path, 0  #um único vértice não configura caminho \n",
    "\n",
    "        #lista cada permutação possível dos vértices\n",
    "        for permuted_vertices in itertools.permutations(vertices):\n",
    "            total_distance = 0\n",
    "            for i in range(self.N_vertices - 1):\n",
    "                vertex1 = permuted_vertices[i]\n",
    "                vertex2 = permuted_vertices[i + 1]\n",
    "                total_distance += self.graph[vertex1][vertex2]\n",
    "\n",
    "            # soma as distancias do primeiro ao ultimo vertice\n",
    "            total_distance += self.graph[permuted_vertices[-1]][permuted_vertices[0]]\n",
    "\n",
    "            if total_distance < shortest_distance:#escolhe a menor\n",
    "                shortest_distance = total_distance\n",
    "                shortest_path = list(permuted_vertices)\n",
    "\n",
    "        return shortest_path, shortest_distance\n",
    "    \n",
    "\n",
    "    def tsp_best_first(self, start_vertex=None):\n",
    "        if not start_vertex:\n",
    "            start_vertex = next(iter(self.graph))  # Comecamos do primeiro vertice\n",
    "\n",
    "        unvisited = set(self.graph.keys()) \n",
    "        unvisited.discard(start_vertex) #visitamos o primeiro vertice\n",
    "        tour = [start_vertex]\n",
    "        current_vertex = start_vertex\n",
    "\n",
    "        while unvisited:\n",
    "            closest_neighbor = None\n",
    "            min_distance = float('inf')\n",
    "\n",
    "            for neighbor, weight in self.graph[current_vertex].items():\n",
    "                if neighbor in unvisited and weight < min_distance:\n",
    "                    min_distance = weight\n",
    "                    closest_neighbor = neighbor\n",
    "\n",
    "            if closest_neighbor is not None:\n",
    "                tour.append(closest_neighbor)\n",
    "                unvisited.remove(closest_neighbor)\n",
    "                current_vertex = closest_neighbor\n",
    "            else:\n",
    "                # Caso todos os visinhos ja foram visitados\n",
    "                # Não ocorre no nosso problema\n",
    "                current_vertex = tour[0]\n",
    "\n",
    "        # Soma as distancias\n",
    "        tour_distance = sum(self.graph[tour[i]][tour[i + 1]] for i in range(len(tour) - 1))\n",
    "        tour_distance += self.graph[tour[-1]][tour[0]]\n",
    "\n",
    "        return tour, tour_distance\n",
    "    \n",
    "    def tsp_branch_bound(self, distances):\n",
    "        n = self.N_vertices\n",
    "        best_path = None\n",
    "        best_cost = np.inf\n",
    "            \n",
    "        # inicializaremos a stack com o no raiz\n",
    "        stack = [(0, [0], set([0]), 0)]\n",
    "        while stack:\n",
    "            node = stack.pop()\n",
    "            if len(node[1]) == n:\n",
    "                # se todas os nos foram visitados, atualize o melhor caminho se o caminho novo eh mais curto\n",
    "                cost = node[3] + distances[int(node[1][-1])][int(0)]\n",
    "                if cost < best_cost:\n",
    "                    best_path = node[1]\n",
    "                    best_cost = cost\n",
    "            else:\n",
    "                # gere nos criancas considerando todos os nos nao visitados\n",
    "                unvisited = set(range(n)) - node[2]\n",
    "                for i in unvisited:\n",
    "                    child_path = node[1] + [i]\n",
    "                    child_cost = node[3] + distances[int(node[1][-1])][int(i)]\n",
    "                    # podar nos com custo maior do que o nosso melhor custo atual\n",
    "                    if child_cost < best_cost:\n",
    "                        stack.append((i, child_path, node[2] | set([i]), child_cost))\n",
    "        return best_path, best_cost\n",
    "\n",
    "    # funcao usada para converter a nossa representacao usando listas para uma matrix\n",
    "    # a fim de facilitar o uso do algoritmo de branch and bound\n",
    "    def convert_to_matrix(self, matrix):\n",
    "        vertices = list(self.graph.keys())\n",
    "        for j in range(self.N_vertices):\n",
    "            matrix.append([])\n",
    "            for i in range(self.N_vertices):\n",
    "                if i != j:\n",
    "                    vertice1 = vertices[j]\n",
    "                    vertice2 = vertices[i]\n",
    "                    matrix[j].append(self.graph[vertice1][vertice2])\n",
    "                else:\n",
    "                    matrix[j].append(0)         "
   ]
  },
  {
   "cell_type": "code",
   "execution_count": 39,
   "metadata": {},
   "outputs": [
    {
     "name": "stdout",
     "output_type": "stream",
     "text": [
      "ME: VE (10.58), TE (19.4), MA (31.02), JU (117.3), SA (239.2), UR (465.6), NE (729.1), PL (983.2), SO (8.424)\n",
      "VE: ME (10.58), TE (12.68), MA (25.3), JU (114.6), SA (234.2), UR (458.6), NE (720.7), PL (975.3), SO (12.68)\n",
      "TE: ME (19.4), VE (12.68), MA (12.68), JU (102.1), SA (221.6), UR (446.6), NE (709.7), PL (963.9), SO (24.71)\n",
      "MA: ME (31.02), VE (25.3), TE (12.68), JU (89.76), SA (208.9), UR (434.6), NE (698.8), PL (952.5), SO (37.18)\n",
      "JU: ME (117.3), VE (114.6), TE (102.1), MA (89.76), SA (127.2), UR (361.8), NE (638.1), PL (885.5), SO (125.0)\n",
      "SA: ME (239.2), VE (234.2), TE (221.6), MA (208.9), JU (127.2), UR (236.6), NE (519.3), PL (761.6), SO (246.0)\n",
      "UR: ME (465.6), VE (458.6), TE (446.6), MA (434.6), JU (361.8), SA (236.6), NE (290.1), PL (525.1), SO (471.2)\n",
      "NE: ME (729.1), VE (720.7), TE (709.7), MA (698.8), JU (638.1), SA (519.3), UR (290.1), PL (262.6), SO (733.3)\n",
      "PL: ME (983.2), VE (975.3), TE (963.9), MA (952.5), JU (885.5), SA (761.6), UR (525.1), NE (262.6), SO (988.0)\n",
      "SO: ME (8.424), VE (12.68), TE (24.71), MA (37.18), JU (125.0), SA (246.0), UR (471.2), NE (733.3), PL (988.0)\n"
     ]
    }
   ],
   "source": [
    "graph = WeightedGraph()\n",
    "\n",
    "PATH = \"data/euclidian.txt\"\n",
    "\n",
    "graph.read_from_file(PATH)\n",
    "\n",
    "graph.print()"
   ]
  },
  {
   "cell_type": "markdown",
   "metadata": {},
   "source": [
    "### **PARTE 2**"
   ]
  },
  {
   "cell_type": "markdown",
   "metadata": {},
   "source": [
    "Primeiramente, vamos executar a solução força bruta para obtermos alguns parâmetros iniciais, como a solução ótima e o pior tempo de execução possível "
   ]
  },
  {
   "cell_type": "code",
   "execution_count": 40,
   "metadata": {},
   "outputs": [
    {
     "name": "stdout",
     "output_type": "stream",
     "text": [
      "Caminho mais curto: ['ME', 'SO', 'VE', 'TE', 'MA', 'NE', 'PL', 'UR', 'SA', 'JU']\n",
      "Comprimento total: 2014.0639999999999 metros\n",
      "Tempo Médio de execução: 3.2951056122779847 segundos\n"
     ]
    }
   ],
   "source": [
    "N_EXECUCOES = 20\n",
    "\n",
    "start = time.time()\n",
    "for i in range(N_EXECUCOES):\n",
    "    shortest_path_bruteforce, shortest_distance_bruteforce = graph.tsp_bruteforce()\n",
    "end = time.time()\n",
    "\n",
    "print(\"Caminho mais curto:\", shortest_path_bruteforce)\n",
    "print(\"Comprimento total:\", shortest_distance_bruteforce, \"metros\")\n",
    "print(\"Tempo Médio de execução:\", (end-start)/N_EXECUCOES,\"segundos\")"
   ]
  },
  {
   "cell_type": "markdown",
   "metadata": {},
   "source": [
    "## **Parte 3**"
   ]
  },
  {
   "cell_type": "markdown",
   "metadata": {},
   "source": [
    "Agora vamos executar os demais algoritmos e aferir suas estatísticas em relação a implementação força bruta. Primeiramente testando com o best first."
   ]
  },
  {
   "cell_type": "code",
   "execution_count": 41,
   "metadata": {},
   "outputs": [
    {
     "name": "stdout",
     "output_type": "stream",
     "text": [
      "Caminho mais curto: ['ME', 'SO', 'VE', 'TE', 'MA', 'JU', 'SA', 'UR', 'NE', 'PL']\n",
      "Comprimento total: 2035.9240000000002 metros\n",
      "Tempo Médio de execução: 1.2445449829101563e-05 segundos\n",
      "Erro relativo da solução: 1.0853676943731856\n"
     ]
    }
   ],
   "source": [
    "start = time.time()\n",
    "for i in range(N_EXECUCOES):\n",
    "    shortest_path_bestfirst, shortest_distance_best_first = graph.tsp_best_first()\n",
    "end = time.time()\n",
    "\n",
    "print(\"Caminho mais curto:\", shortest_path_bestfirst)\n",
    "print(\"Comprimento total:\", shortest_distance_best_first, \"metros\")\n",
    "print(\"Tempo Médio de execução:\", (end-start)/N_EXECUCOES,\"segundos\")\n",
    "print(\"Erro relativo da solução:\", (shortest_distance_best_first-shortest_distance_bruteforce)/shortest_distance_bruteforce*100)"
   ]
  },
  {
   "cell_type": "markdown",
   "metadata": {},
   "source": [
    "Depois testemos o algoritmo de Branch and Bound."
   ]
  },
  {
   "cell_type": "code",
   "execution_count": 44,
   "metadata": {},
   "outputs": [
    {
     "name": "stdout",
     "output_type": "stream",
     "text": [
      "Caminho mais curto: [0, 9, 1, 2, 3, 7, 8, 6, 5, 4]\n",
      "Comprimento total: 2014.0639999999999 metros\n",
      "Tempo Médio de execução: 0.1155349612236023\n",
      "Erro relativo da solução: 0.0\n"
     ]
    }
   ],
   "source": [
    "matrix = []\n",
    "graph.convert_to_matrix(matrix)\n",
    "start = time.time()\n",
    "for i in range(N_EXECUCOES):\n",
    "    shortest_path_branch_bound, shortest_distance_branch_bound = graph.tsp_branch_bound(matrix)\n",
    "end = time.time()\n",
    "\n",
    "print(\"Caminho mais curto:\", shortest_path_branch_bound)\n",
    "print(\"Comprimento total:\", shortest_distance_branch_bound, \"metros\")\n",
    "print(\"Tempo Médio de execução:\", (end-start)/N_EXECUCOES)\n",
    "print(\"Erro relativo da solução:\", (shortest_distance_branch_bound-shortest_distance_bruteforce)/shortest_distance_bruteforce*100)"
   ]
  },
  {
   "cell_type": "code",
   "execution_count": null,
   "metadata": {},
   "outputs": [],
   "source": []
  }
 ],
 "metadata": {
  "kernelspec": {
   "display_name": "Python 3 (ipykernel)",
   "language": "python",
   "name": "python3"
  },
  "language_info": {
   "codemirror_mode": {
    "name": "ipython",
    "version": 3
   },
   "file_extension": ".py",
   "mimetype": "text/x-python",
   "name": "python",
   "nbconvert_exporter": "python",
   "pygments_lexer": "ipython3",
   "version": "3.11.2"
  }
 },
 "nbformat": 4,
 "nbformat_minor": 2
}
