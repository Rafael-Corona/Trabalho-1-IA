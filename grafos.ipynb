{
 "cells": [
  {
   "cell_type": "markdown",
   "metadata": {},
   "source": [
    "# SCC0230 - Inteligência Artificial (2030)\n",
    "#### Docente: Solange Oliveira Rezende\n",
    "#### PAE - Germano Antonio Zani Jorge\n",
    "#### PAE - Rene Vieira Santin\n",
    "### **Trabalho 1**\n",
    "#### Integrantes:\n",
    "*  Arthur Antonio Rezende Pereira - 15111735\n",
    "*  Raiad Do Amaral Scaggion - 13727439\n",
    "*  Rafael Corona - 4769989\n",
    "*  Vinícius de Moraes - 13749910\n",
    "*  Vitor Caetano Brustolin - 11795589\n",
    "*  Yvis Freire Silva Santos - 12608793"
   ]
  },
  {
   "cell_type": "markdown",
   "metadata": {},
   "source": [
    "### **PARTE 1**\n",
    "\n",
    "Na USP São Carlos, existem 10 totens espalhados pelo campus 1 com miniaturas dos 8 planetas do sistema solar, o Sol e Plutão. Esses totens representam o sistema solar em escala e mostram aos passantes a real escala do sistema, que geralmente é representada incorretamente em livros didáticos para que seja possível desenhar todos os planetas em uma única página.\n",
    "\n",
    "Nosso trabalho tem o objetivo de encontrar a menor rota que passa por todos os planetas e retorna ao ponto de início. A solução desse problema pode ser interessante para quem esteja planejanto uma visita educacional pelos totens, na qual todos são visitados e a excursão termina no ponto de início.\n",
    "\n",
    "O problema foi modelado como um grafo, no qual os vértices são os planetas, as arestas são os caminhos que ligam os planetas e os pesos das arestas são as distâncias de cada caminho. Este problema nada mais é do que uma instância do problema do caixeiro viajante, na qual, a partir de um vértice, é possível atingir outro qualquer diretamente.\n",
    "\n",
    "Os parâmetros recebidos pelo programa são:\n",
    "* O número de pontos a serem visitados\n",
    "* O número de arestas do grafo\n",
    "* O nome de cada vértice\n",
    "* Todas as arestas e seus pesos\n",
    "\n",
    "As variáveis que o programa deseja calcular são:\n",
    "* Qual a rota mais curta que percorre todos os vértices e retorna ao vértice inicial\n",
    "* Qual é a distância dessa rota\n",
    "\n",
    "O vértice inicial do ciclo pode ser qualquer planeta, pois o grafo não é direcionado e a todo momento todos os vértices estão acessíveis."
   ]
  },
  {
   "cell_type": "markdown",
   "metadata": {},
   "source": [
    "### Imports\n",
    "A biblioteca intertools foi utilizada para gerar todos os caminhos possíveis, e a time foi utilizada na aferição de desempenho do código"
   ]
  },
  {
   "cell_type": "code",
   "execution_count": 130,
   "metadata": {},
   "outputs": [],
   "source": [
    "import itertools\n",
    "import time\n",
    "import numpy as np"
   ]
  },
  {
   "cell_type": "code",
   "execution_count": 131,
   "metadata": {},
   "outputs": [],
   "source": [
    "#classe que representa um grafo valorado não orientado\n",
    "class WeightedGraph:\n",
    "    def __init__(self):\n",
    "        self.graph = {} #listas de adjacencia\n",
    "        self.N_vertices = 0\n",
    "        self.N_edges = 0\n",
    "\n",
    "    #adiciona um vértice ao grafo, caso ele ainda não tenha sido adicionado\n",
    "    def add_vertex(self, vertex):\n",
    "        if (vertex not in self.graph):\n",
    "            self.graph[vertex] = {} #lista de adjacencia do vétice\n",
    "            self.N_vertices = self.N_vertices+1\n",
    "\n",
    "    #adiciona uma aresta entre dois vértices do grafo\n",
    "    def add_edge(self, vertex1, vertex2, weight):\n",
    "        if (vertex1 in self.graph and vertex2 in self.graph):\n",
    "            if(weight >= 0):\n",
    "                self.graph[vertex1][vertex2] = weight\n",
    "                self.graph[vertex2][vertex1] = weight  # para um grafo não direcionado\n",
    "            \n",
    "            #distâncias negativas significam que não há caminho\n",
    "            else:\n",
    "                self.graph[vertex1][vertex2] = float('inf')\n",
    "                self.graph[vertex2][vertex1] = float('inf')\n",
    "            self.N_edges = self.N_edges+1\n",
    "    \n",
    "    #remove uma aresta entre dois vértices do grafo\n",
    "    def remove_edge(self, vertex1, vertex2):\n",
    "        if (vertex1 in self.graph and vertex2 in self.graph):\n",
    "            del self.graph[vertex1][vertex2]\n",
    "            del self.graph[vertex2][vertex1]# para um grafo não direcionado\n",
    "            self.N_edges = self.N_edges-1 \n",
    "\n",
    "    #printa o grafo como uma lista de adjacencias\n",
    "    def print(self):\n",
    "        for vertex, neighbors in self.graph.items():\n",
    "            neighbor_str = \", \".join([f\"{neighbor} ({weight})\" for neighbor, weight in neighbors.items()])\n",
    "            print(f\"{vertex}: {neighbor_str}\")\n",
    "\n",
    "    #lê um grafo a partir de um arquivo\n",
    "    def read_from_file(self, file_path):\n",
    "            with open(file_path, 'r') as file:\n",
    "                num_vertices = int(file.readline().strip())\n",
    "                num_edges = int(file.readline().strip())\n",
    "\n",
    "                for _ in range(num_vertices):\n",
    "                    vertex = file.readline().strip()\n",
    "                    self.add_vertex(vertex)\n",
    "\n",
    "                for _ in range(num_edges):\n",
    "                    line = file.readline().strip()\n",
    "                    vertex1, vertex2, weight = line.split()\n",
    "                    vertex1 = str(vertex1)\n",
    "                    vertex2 = str(vertex2)\n",
    "                    weight = float(weight)\n",
    "                    self.add_edge(vertex1, vertex2, weight)\n",
    "                #linhas após o termino das arestas são ignoradas\n",
    "\n",
    "    def convert_to_matrix(self):\n",
    "        vertices = list(self.graph.keys())\n",
    "        matrix = []\n",
    "        for v in vertices:\n",
    "            matrix.append([])\n",
    "            for w in range(self.N_vertices):\n",
    "                matrix[v][w] = self.graph[v][w]\n",
    "                \n",
    "    \n",
    "\n",
    "    #resolve o problema do caixeiro viajante por força bruta\n",
    "    #retorna o menor caminho e o comprimento desse caminho\n",
    "    def tsp_bruteforce(self):\n",
    "        vertices = list(self.graph.keys())\n",
    "\n",
    "        shortest_path = []\n",
    "        shortest_distance = float('inf')\n",
    "\n",
    "        if self.N_vertices < 2:\n",
    "            return shortest_path, 0  #um único vértice não configura caminho \n",
    "\n",
    "        #lista cada permutação possível dos vértices\n",
    "        for permuted_vertices in itertools.permutations(vertices):\n",
    "            total_distance = 0\n",
    "            for i in range(self.N_vertices - 1):\n",
    "                vertex1 = permuted_vertices[i]\n",
    "                vertex2 = permuted_vertices[i + 1]\n",
    "                total_distance += self.graph[vertex1][vertex2]\n",
    "\n",
    "            # soma as distancias do primeiro ao ultimo vertice\n",
    "            total_distance += self.graph[permuted_vertices[-1]][permuted_vertices[0]]\n",
    "\n",
    "            if total_distance < shortest_distance:#escolhe a menor\n",
    "                shortest_distance = total_distance\n",
    "                shortest_path = list(permuted_vertices)\n",
    "\n",
    "        return shortest_path, shortest_distance\n",
    "    \n",
    "\n",
    "    def tsp_best_first(self, start_vertex=None):\n",
    "        if not start_vertex:\n",
    "            start_vertex = next(iter(self.graph))  # Comecamos do primeiro vertice\n",
    "\n",
    "        unvisited = set(self.graph.keys()) \n",
    "        unvisited.discard(start_vertex) #visitamos o primeiro vertice\n",
    "        tour = [start_vertex]\n",
    "        current_vertex = start_vertex\n",
    "\n",
    "        while unvisited:\n",
    "            closest_neighbor = None\n",
    "            min_distance = float('inf')\n",
    "\n",
    "            for neighbor, weight in self.graph[current_vertex].items():\n",
    "                if neighbor in unvisited and weight < min_distance:\n",
    "                    min_distance = weight\n",
    "                    closest_neighbor = neighbor\n",
    "\n",
    "            if closest_neighbor is not None:\n",
    "                tour.append(closest_neighbor)\n",
    "                unvisited.remove(closest_neighbor)\n",
    "                current_vertex = closest_neighbor\n",
    "            else:\n",
    "                # Caso todos os visinhos ja foram visitados\n",
    "                # Não ocorre no nosso problema\n",
    "                current_vertex = tour[0]\n",
    "\n",
    "        # Soma as distancias\n",
    "        tour_distance = sum(self.graph[tour[i]][tour[i + 1]] for i in range(len(tour) - 1))\n",
    "        tour_distance += self.graph[tour[-1]][tour[0]]\n",
    "\n",
    "        return tour, tour_distance\n",
    "    \n",
    "    def tsp_branch_bound(self, distances):\n",
    "        n = self.N_vertices\n",
    "        best_path = None\n",
    "        best_cost = np.inf\n",
    "            \n",
    "        # inicializaremos a stack com o no raiz\n",
    "        stack = [(0, [0], set([0]), 0)]\n",
    "        while stack:\n",
    "            node = stack.pop()\n",
    "            if len(node[1]) == n:\n",
    "                # se todas os nos foram visitados, atualize o melhor caminho se o caminho novo eh mais curto\n",
    "                cost = node[3] + distances[int(node[1][-1])][int(0)]\n",
    "                if cost < best_cost:\n",
    "                    best_path = node[1]\n",
    "                    best_cost = cost\n",
    "            else:\n",
    "                # gere nos criancas considerando todos os nos nao visitados\n",
    "                unvisited = set(range(n)) - node[2]\n",
    "                for i in unvisited:\n",
    "                    child_path = node[1] + [i]\n",
    "                    child_cost = node[3] + distances[int(node[1][-1])][int(i)]\n",
    "                    # podar nos com custo maior do que o nosso melhor custo atual\n",
    "                    if child_cost < best_cost:\n",
    "                        stack.append((i, child_path, node[2] | set([i]), child_cost))\n",
    "        return best_path, best_cost\n",
    "\n",
    "    # funcao usada para converter a nossa representacao usando listas para uma matrix\n",
    "    # a fim de facilitar o uso do algoritmo de branch and bound\n",
    "    def convert_to_matrix(self, matrix):\n",
    "        vertices = list(self.graph.keys())\n",
    "        for j in range(self.N_vertices):\n",
    "            matrix.append([])\n",
    "            for i in range(self.N_vertices):\n",
    "                if i != j:\n",
    "                    vertice1 = vertices[j]\n",
    "                    vertice2 = vertices[i]\n",
    "                    matrix[j].append(self.graph[vertice1][vertice2])\n",
    "                else:\n",
    "                    matrix[j].append(0)         "
   ]
  },
  {
   "cell_type": "markdown",
   "metadata": {},
   "source": [
    "O método tsp_bruteforce() gera todas as permutações dos planetas, gerando assim, todos os ciclos que contém todos os planetas. Então realiza uma busca cega pelos caminhos gerados buscando o menor deles. Pela natureza do problema, só é possível saber se uma solução é ótima testando todas as possíveis. Portanto, não é necessário que a busca cega siga algum algoritmo de busca como BFS ou DFS, já que todos os galhos da árvore de busca sempre serão percorridos até o final. Portanto, o código implementado percorre os caminhos na ordem que a função itertools.permutations() os retorna, sem se preocupar com uma ordem específica.\n",
    "\n",
    "Este algoritmo sempre retorna uma solução ótima, porém é muito lento, tendo uma complexidade algorítmica de O(n!). É o algoritmo com o pior tempo de execução pois nunca realiza podas na árvore."
   ]
  },
  {
   "cell_type": "markdown",
   "metadata": {},
   "source": [
    "O método tsp_best_first() Inicia o percurso em um vértice qualquer e a partir daí escolhe o vértice mais próximo e não visitado como o vértice seguinte para continuar o caminho, até que todos os vértices tenham sido visitados.\n",
    "\n",
    "Este algoritmo tem um ótimo tempo de execução, pois sua complexidade algorítmica é O(n) e é o mais veloz dentre os implementados neste trabalho. Porém não garante a otimalidade da solução e o resultado depende do vértice inicial. É possível que retorne soluções com alto erro relativo em cenários específicos. Mesmo assim, tende a achar soluções razoáveis no geral."
   ]
  },
  {
   "cell_type": "markdown",
   "metadata": {},
   "source": [
    "O método tsp_branch_bound() é uma busca informada, e percorre o grafo utilizando uma DFS. Mas ao contrário de uma busca cega, ele armazena a menor solução encontrada até o momento e sempre que um galho atinge um custo maior do que o menor já registrado, este galho é podado. Caso um galho obtenha uma solução menor do que a melhor registrada, a melhor solução é atualizada. Essas podas agilizam muito o tempo de execução e permitem que instâncias maiores do problema possam ser solucionadas.\n",
    "\n",
    "Este algoritmo sempre retorna uma solução ótima. Apesar de ser melhor do que a solução força bruta, ainda possui complexidade algorítmica de O(n!). Isso ocorre pois nem sempre é possível realizar podas na árvore de buscas. Por exemplo, caso as soluções sejam descobertas em ordem decrescente de custo, nenhuma poda será realizada, e este método será tão lento quanto uma busca cega."
   ]
  },
  {
   "cell_type": "code",
   "execution_count": 132,
   "metadata": {},
   "outputs": [
    {
     "name": "stdout",
     "output_type": "stream",
     "text": [
      "ME: VE (10.58), TE (19.4), MA (31.02), JU (117.3), SA (239.2), UR (546.68), NE (868.18), PL (1113.0), SO (8.424)\n",
      "VE: ME (10.58), TE (12.68), MA (25.3), JU (114.6), SA (234.2), UR (473.82), NE (793.17), PL (1003.0), SO (12.68)\n",
      "TE: ME (19.4), VE (12.68), MA (12.68), JU (102.1), SA (221.6), UR (460.48), NE (780.18), PL (1004.0), SO (24.71)\n",
      "MA: ME (31.02), VE (25.3), TE (12.68), JU (89.76), SA (89.76), UR (451.74), NE (767.13), PL (1005.0), SO (37.18)\n",
      "JU: ME (117.3), VE (114.6), TE (102.1), MA (89.76), SA (127.2), UR (368.37), NE (679.21), PL (943.99), SO (125.0)\n",
      "SA: ME (239.2), VE (234.2), TE (221.6), MA (89.76), JU (127.2), UR (248.25), NE (564.78), PL (827.34), SO (246.0)\n",
      "UR: ME (546.68), VE (473.82), TE (460.48), MA (451.74), JU (368.37), SA (248.25), NE (289.53), PL (552.08), SO (485.33)\n",
      "NE: ME (868.18), VE (793.17), TE (780.18), MA (767.13), JU (679.21), SA (564.78), UR (289.53), PL (259.53), SO (816.95)\n",
      "PL: ME (1113.0), VE (1003.0), TE (1004.0), MA (1005.0), JU (943.99), SA (827.34), UR (552.08), NE (259.53), SO (1007.0)\n",
      "SO: ME (8.424), VE (12.68), TE (24.71), MA (37.18), JU (125.0), SA (246.0), UR (485.33), NE (816.95), PL (1007.0)\n"
     ]
    }
   ],
   "source": [
    "graph = WeightedGraph()\n",
    "\n",
    "PATH = \"data/rotas.txt\"\n",
    "#PATH = \"data/euclidian.txt\"\n",
    "\n",
    "\n",
    "graph.read_from_file(PATH)\n",
    "\n",
    "graph.print()"
   ]
  },
  {
   "cell_type": "markdown",
   "metadata": {},
   "source": [
    "Neste bloco de código o grafo é montado a partir do arquivo de entrada. Pode-se escolher entre o arquivo com as distâncias em linha reta até os planetas ou o arquivo com os caminhos que um pedestre percorreria. Para instâncias muito grandes desse problema, pode ser inviável calcular com precisão os caminhos reais. Para trocar entre os arquivos, basta trocar o comentário do bloco de código acima"
   ]
  },
  {
   "cell_type": "markdown",
   "metadata": {},
   "source": [
    "### **PARTE 2**"
   ]
  },
  {
   "cell_type": "markdown",
   "metadata": {},
   "source": [
    "Primeiramente, vamos executar a solução força bruta para obtermos alguns parâmetros iniciais, como a solução ótima e o pior tempo de execução possível "
   ]
  },
  {
   "cell_type": "code",
   "execution_count": 133,
   "metadata": {},
   "outputs": [
    {
     "name": "stdout",
     "output_type": "stream",
     "text": [
      "Caminho mais curto: ['MA', 'TE', 'VE', 'SO', 'ME', 'JU', 'NE', 'PL', 'UR', 'SA']\n",
      "Comprimento total: 1992.59 metros\n",
      "Tempo Médio de execução: 3.487 segundos\n"
     ]
    }
   ],
   "source": [
    "N_EXECUCOES = 20\n",
    "\n",
    "start = time.time()\n",
    "for i in range(N_EXECUCOES):\n",
    "    shortest_path_bruteforce, shortest_distance_bruteforce = graph.tsp_bruteforce()\n",
    "end = time.time()\n",
    "\n",
    "print(\"Caminho mais curto:\", shortest_path_bruteforce)\n",
    "print(\"Comprimento total:\", \"{:.2f}\".format(shortest_distance_bruteforce), \"metros\")\n",
    "print(\"Tempo Médio de execução:\", \"{:.3f}\".format((end-start)/N_EXECUCOES),\"segundos\")"
   ]
  },
  {
   "cell_type": "markdown",
   "metadata": {},
   "source": [
    "## **Parte 3**"
   ]
  },
  {
   "cell_type": "markdown",
   "metadata": {},
   "source": [
    "Agora vamos executar os demais algoritmos e aferir suas estatísticas em relação a implementação força bruta. Primeiramente testando com o best first."
   ]
  },
  {
   "cell_type": "code",
   "execution_count": 134,
   "metadata": {},
   "outputs": [
    {
     "name": "stdout",
     "output_type": "stream",
     "text": [
      "Caminho mais curto: ['ME', 'SO', 'VE', 'TE', 'MA', 'JU', 'SA', 'UR', 'NE', 'PL']\n",
      "Comprimento total: 2173.73 metros\n",
      "Tempo Médio de execução: 0.00001 segundos\n",
      "Erro relativo da solução: 9.09%\n"
     ]
    }
   ],
   "source": [
    "start = time.time()\n",
    "for i in range(N_EXECUCOES):\n",
    "    shortest_path_bestfirst, shortest_distance_best_first = graph.tsp_best_first()\n",
    "end = time.time()\n",
    "\n",
    "print(\"Caminho mais curto:\", shortest_path_bestfirst)\n",
    "print(\"Comprimento total:\", \"{:.2f}\".format(shortest_distance_best_first), \"metros\")\n",
    "print(\"Tempo Médio de execução:\", \"{:.5f}\".format((end-start)/N_EXECUCOES),\"segundos\")\n",
    "print(\"Erro relativo da solução: \", \"{:.2f}\".format((shortest_distance_best_first-shortest_distance_bruteforce)/shortest_distance_bruteforce*100), \"%\",sep=\"\")"
   ]
  },
  {
   "cell_type": "markdown",
   "metadata": {},
   "source": [
    "Percebemos que o tempo de execução foi muito menor, e que a solução, apesar de não ótima, possui um erro relativo baixo. Note também que esta solução começou em Mercúrio, e caso o ponto de partida fosse outro, a solução provavelmente seria outra"
   ]
  },
  {
   "cell_type": "markdown",
   "metadata": {},
   "source": [
    "Depois testemos o algoritmo de Branch and Bound."
   ]
  },
  {
   "cell_type": "code",
   "execution_count": 135,
   "metadata": {},
   "outputs": [
    {
     "name": "stdout",
     "output_type": "stream",
     "text": [
      "Caminho mais curto: ['ME', 'VE', 'TE', 'MA', 'JU', 'SA', 'UR', 'NE', 'PL', 'SO']\n",
      "Comprimento total: 1992.59 metros\n",
      "Tempo Médio de execução: 0.09224\n",
      "Erro relativo da solução: 0.000%\n"
     ]
    }
   ],
   "source": [
    "matrix = []\n",
    "graph.convert_to_matrix(matrix)\n",
    "start = time.time()\n",
    "for i in range(N_EXECUCOES):\n",
    "    shortest_path_branch_bound, shortest_distance_branch_bound = graph.tsp_branch_bound(matrix)\n",
    "end = time.time()\n",
    "\n",
    "#conversão para os nomes dos arquivos\n",
    "shortest_path_branch_bound[0] = 'ME'\n",
    "shortest_path_branch_bound[1] = 'VE'\n",
    "shortest_path_branch_bound[2] = 'TE'\n",
    "shortest_path_branch_bound[3] = 'MA'\n",
    "shortest_path_branch_bound[4] = 'JU'\n",
    "shortest_path_branch_bound[5] = 'SA'\n",
    "shortest_path_branch_bound[6] = 'UR'\n",
    "shortest_path_branch_bound[7] = 'NE'\n",
    "shortest_path_branch_bound[8] = 'PL'\n",
    "shortest_path_branch_bound[9] = 'SO'\n",
    "\n",
    "#O caminho começou por outro planeta, porém realiza o mesmo ciclo\n",
    "print(\"Caminho mais curto:\", shortest_path_branch_bound)\n",
    "print(\"Comprimento total:\", \"{:.2f}\".format(shortest_distance_branch_bound), \"metros\")\n",
    "print(\"Tempo Médio de execução:\", \"{:.5f}\".format((end-start)/N_EXECUCOES))\n",
    "print(\"Erro relativo da solução: \", \"{:.3f}\".format((shortest_distance_branch_bound-shortest_distance_bruteforce)/shortest_distance_bruteforce*100), \"%\", sep=\"\")"
   ]
  },
  {
   "cell_type": "markdown",
   "metadata": {},
   "source": [
    "Aqui pode-se perceber que notar que a solução encontrada é ótima e o tempo de execução foi consíderavelmente inferior. Para a instância do problema que nosso grupo se propôs a resolver, o algoritmo branch and bound foi considerado o melhor."
   ]
  }
 ],
 "metadata": {
  "kernelspec": {
   "display_name": "Python 3 (ipykernel)",
   "language": "python",
   "name": "python3"
  },
  "language_info": {
   "codemirror_mode": {
    "name": "ipython",
    "version": 3
   },
   "file_extension": ".py",
   "mimetype": "text/x-python",
   "name": "python",
   "nbconvert_exporter": "python",
   "pygments_lexer": "ipython3",
   "version": "3.11.2"
  }
 },
 "nbformat": 4,
 "nbformat_minor": 2
}
